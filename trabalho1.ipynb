{
 "cells": [
  {
   "cell_type": "code",
   "execution_count": 21,
   "metadata": {},
   "outputs": [],
   "source": [
    "import random\n",
    "import pandas as pd"
   ]
  },
  {
   "cell_type": "code",
   "execution_count": 22,
   "metadata": {},
   "outputs": [],
   "source": [
    "POPULATION_SIZE = 15\n",
    "TAB_SIZE = 8"
   ]
  },
  {
   "attachments": {},
   "cell_type": "markdown",
   "metadata": {},
   "source": [
    "Função pra geração do FitnessScore"
   ]
  },
  {
   "cell_type": "code",
   "execution_count": 23,
   "metadata": {},
   "outputs": [],
   "source": [
    "'''\n",
    "A função definida para encontrar o FitnessScore, corre por todas as colunas do tabuleiro,\n",
    "verificando se a rainha dessa coluna se encontra na mesma linha que alguma rainha anterior\n",
    "e verificando também se há outras rainhas nas mesmas diagonais.\n",
    "A cada par de colisão encontrado, o fitness score é aumentado em 1.\n",
    "\n",
    "aux1 = posição da rainha da coluna atual em relação ao eixo y\n",
    "aux2 = posição da rainha à qual 'aux1' vai ser comparada\n",
    "\n",
    "i = coluna da rainha atual\n",
    "j = coluna da rainha a ser comparada\n",
    "'''\n",
    "def getFitnessScore(solution):\n",
    "    fitness_score = 0\n",
    "    for i in range(0, TAB_SIZE):\n",
    "        for j in range(0, i):\n",
    "            aux1 = solution[i]\n",
    "            aux2 = solution[j]\n",
    "\n",
    "            if (aux1 == aux2) or (j - i == aux2 - aux1) or (j - i == aux1 - aux2):\n",
    "                fitness_score += 1\n",
    "    return fitness_score"
   ]
  },
  {
   "attachments": {},
   "cell_type": "markdown",
   "metadata": {},
   "source": [
    "Gerando a População Inicial"
   ]
  },
  {
   "cell_type": "code",
   "execution_count": 24,
   "metadata": {},
   "outputs": [],
   "source": [
    "'''\n",
    "Para cada iteração da população, é gerado um vetor vazio, que tem seus valores sorteados para\n",
    "representação da solução gerada. Após a geração da solução, é gerado seu FitnessScore.\n",
    "'''\n",
    "initial_population = {'Population':[]}\n",
    "\n",
    "for i in range(0, POPULATION_SIZE):\n",
    "    random_list = []\n",
    "    fitness_score = 0\n",
    "    for j in range(0,TAB_SIZE):            \n",
    "        random_list.append(random.randint(0,TAB_SIZE-1))    \n",
    "    initial_population['Population'].append({'Solution':random_list, 'FitnessScore':getFitnessScore(random_list)})"
   ]
  },
  {
   "cell_type": "code",
   "execution_count": 25,
   "metadata": {},
   "outputs": [
    {
     "name": "stdout",
     "output_type": "stream",
     "text": [
      "{'Population': [{'Solution': [7, 6, 0, 3, 2, 1, 6, 3], 'FitnessScore': 9}, {'Solution': [1, 7, 1, 3, 7, 3, 6, 3], 'FitnessScore': 7}, {'Solution': [5, 5, 3, 1, 0, 4, 1, 4], 'FitnessScore': 5}, {'Solution': [6, 2, 1, 3, 0, 0, 4, 4], 'FitnessScore': 4}, {'Solution': [1, 6, 7, 6, 3, 2, 3, 1], 'FitnessScore': 11}, {'Solution': [3, 0, 2, 5, 7, 1, 0, 6], 'FitnessScore': 4}, {'Solution': [0, 3, 3, 1, 1, 2, 2, 0], 'FitnessScore': 8}, {'Solution': [4, 5, 5, 4, 6, 5, 3, 0], 'FitnessScore': 9}, {'Solution': [1, 1, 7, 1, 2, 2, 6, 5], 'FitnessScore': 9}, {'Solution': [5, 0, 2, 3, 0, 2, 4, 4], 'FitnessScore': 6}, {'Solution': [2, 4, 6, 5, 2, 1, 7, 5], 'FitnessScore': 6}, {'Solution': [1, 1, 4, 7, 2, 7, 0, 1], 'FitnessScore': 9}, {'Solution': [7, 2, 3, 6, 4, 4, 5, 6], 'FitnessScore': 7}, {'Solution': [3, 6, 6, 0, 4, 5, 1, 4], 'FitnessScore': 7}, {'Solution': [6, 7, 6, 7, 1, 7, 4, 0], 'FitnessScore': 8}]}\n"
     ]
    }
   ],
   "source": [
    "print(initial_population)"
   ]
  },
  {
   "attachments": {},
   "cell_type": "markdown",
   "metadata": {},
   "source": [
    "Conversão da população inicial para um DataFrame"
   ]
  },
  {
   "cell_type": "code",
   "execution_count": 26,
   "metadata": {},
   "outputs": [
    {
     "name": "stdout",
     "output_type": "stream",
     "text": [
      "                    Solution  FitnessScore\n",
      "0   [6, 2, 1, 3, 0, 0, 4, 4]             4\n",
      "1   [3, 0, 2, 5, 7, 1, 0, 6]             4\n",
      "2   [5, 5, 3, 1, 0, 4, 1, 4]             5\n",
      "3   [5, 0, 2, 3, 0, 2, 4, 4]             6\n",
      "4   [2, 4, 6, 5, 2, 1, 7, 5]             6\n",
      "5   [1, 7, 1, 3, 7, 3, 6, 3]             7\n",
      "6   [7, 2, 3, 6, 4, 4, 5, 6]             7\n",
      "7   [3, 6, 6, 0, 4, 5, 1, 4]             7\n",
      "8   [0, 3, 3, 1, 1, 2, 2, 0]             8\n",
      "9   [6, 7, 6, 7, 1, 7, 4, 0]             8\n",
      "10  [7, 6, 0, 3, 2, 1, 6, 3]             9\n",
      "11  [4, 5, 5, 4, 6, 5, 3, 0]             9\n",
      "12  [1, 1, 7, 1, 2, 2, 6, 5]             9\n",
      "13  [1, 1, 4, 7, 2, 7, 0, 1]             9\n",
      "14  [1, 6, 7, 6, 3, 2, 3, 1]            11\n"
     ]
    }
   ],
   "source": [
    "'''\n",
    "Após a geração de toda a população inicial com seus respectivos FitnessScores, convertemos os dados atuais\n",
    "para o formato de dataframe, para melhor visualização e manipulação dos dados.\n",
    "O DataFrame é ordenado de acordo com o FitnessScore de cada solução, em ordem crescente. Dessa forma, temos\n",
    "as soluções, da melhor à pior, de forma ordenada.\n",
    "'''\n",
    "df = pd.DataFrame(initial_population['Population']).sort_values(by=['FitnessScore']).reset_index(drop=True)\n",
    "print(df)"
   ]
  },
  {
   "attachments": {},
   "cell_type": "markdown",
   "metadata": {},
   "source": [
    "Função que gera os filhos por cruzamento e mutação"
   ]
  },
  {
   "cell_type": "code",
   "execution_count": 27,
   "metadata": {},
   "outputs": [],
   "source": [
    "'''\n",
    "A função definida a seguir, usa como input o dataframe da população, e usa as duas melhores soluções atuais\n",
    "para gerar seus filhos. Eu optei por gerar dois filhos com diferentes pontos de cruzamento (sorteados) apenas\n",
    "para brincar com a complexidade do problema. Caso seja desejado que ambos tenham cruzamento no mesmo ponto,\n",
    "é apenas necessário que a segunda linha que sorteia a variável 'loc' seja comentada.\n",
    "A partir do sorteio do ponto de cruzamento, geramos dois filhos: um com a primeira parte correspondente à\n",
    "primeira solução do dataframe e a segunda parte correspondente à segunda solução, e o segundo filho com as\n",
    "correspondências contrárias.\n",
    "Com esses dois filhos gerados, sorteamos um ponto de mutação para cada um desses filhos, em que essa posição\n",
    "é substituída por um valor aleatório.\n",
    "Temos então quatro filhos gerados, que são adicionados ao dataframe, que já retorna de forma ordenada.\n",
    "'''\n",
    "def crossover_and_mutate(df):\n",
    "    sol1 = df.loc[0]['Solution']\n",
    "    sol2 = df.loc[1]['Solution']\n",
    "\n",
    "##################### CROSSOVER ###############################\n",
    "    loc = random.randint(1,TAB_SIZE-1)\n",
    "    new_sol1 = sol1[0:loc] + sol2[loc:]\n",
    "\n",
    "    loc = random.randint(1,TAB_SIZE-1)\n",
    "    new_sol2 = sol2[0:loc] + sol1[loc:]\n",
    "    \n",
    "##################### MUTATION ###############################\n",
    "    loc = random.randint(0,TAB_SIZE-1)\n",
    "    new_sol1_m = new_sol1\n",
    "    new_sol1_m[loc] = random.randint(0,TAB_SIZE-1)\n",
    "\n",
    "    loc = random.randint(0,TAB_SIZE-1)\n",
    "    new_sol2_m = new_sol2\n",
    "    new_sol2_m[loc] = random.randint(0,TAB_SIZE-1)\n",
    "\n",
    "    df = pd.concat([df, pd.DataFrame([{'Solution':new_sol1, 'FitnessScore':getFitnessScore(new_sol1)},\n",
    "                                    {'Solution':new_sol2, 'FitnessScore':getFitnessScore(new_sol2)},\n",
    "                                    {'Solution':new_sol1_m, 'FitnessScore':getFitnessScore(new_sol1_m)},\n",
    "                                    {'Solution':new_sol2_m, 'FitnessScore':getFitnessScore(new_sol2_m)}])], ignore_index=True)\n",
    "    \n",
    "    df = df.sort_values(by=['FitnessScore']).reset_index(drop=True)\n",
    "    \n",
    "    return df"
   ]
  },
  {
   "attachments": {},
   "cell_type": "markdown",
   "metadata": {},
   "source": [
    "Busca pela solução de FitnessScore desejado"
   ]
  },
  {
   "cell_type": "code",
   "execution_count": 28,
   "metadata": {},
   "outputs": [
    {
     "name": "stdout",
     "output_type": "stream",
     "text": [
      "Solução encontrada com 29706 iterações.\n",
      "Solution        [2, 6, 1, 7, 5, 3, 0, 4]\n",
      "FitnessScore                           0\n",
      "Name: 0, dtype: object\n"
     ]
    }
   ],
   "source": [
    "'''\n",
    "A função anterior é repetida 'n' vezes com a nova população gerada, até que o cruzamento ou mutação\n",
    "das melhores soluções resulte em uma solução de FitnessScore = 0.\n",
    "'''\n",
    "found = (df.loc[0]['FitnessScore'] == 0)\n",
    "iter = 0\n",
    "\n",
    "while(not found):\n",
    "    df = crossover_and_mutate(df)\n",
    "    iter +=1\n",
    "    found = (df.loc[0]['FitnessScore'] == 0)\n",
    "\n",
    "print(f\"Solução encontrada com {iter} iterações.\")\n",
    "print(df.loc[0])"
   ]
  }
 ],
 "metadata": {
  "kernelspec": {
   "display_name": "Python 3",
   "language": "python",
   "name": "python3"
  },
  "language_info": {
   "codemirror_mode": {
    "name": "ipython",
    "version": 3
   },
   "file_extension": ".py",
   "mimetype": "text/x-python",
   "name": "python",
   "nbconvert_exporter": "python",
   "pygments_lexer": "ipython3",
   "version": "3.10.6"
  },
  "orig_nbformat": 4,
  "vscode": {
   "interpreter": {
    "hash": "916dbcbb3f70747c44a77c7bcd40155683ae19c65e1c03b4aa3499c5328201f1"
   }
  }
 },
 "nbformat": 4,
 "nbformat_minor": 2
}
